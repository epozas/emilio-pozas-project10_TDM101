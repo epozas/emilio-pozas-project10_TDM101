{
 "cells": [
  {
   "cell_type": "markdown",
   "id": "be02a957-7133-4d02-818e-fedeb3cecb05",
   "metadata": {},
   "source": [
    "# Project 10 -- Emilio Pozas"
   ]
  },
  {
   "cell_type": "markdown",
   "id": "a1228853-dd19-4ab2-89e0-0394d7d72de3",
   "metadata": {},
   "source": []
  },
  {
   "cell_type": "markdown",
   "id": "6180e742-8e39-4698-98ff-5b00c8cf8ea0",
   "metadata": {},
   "source": [
    "## Question 1"
   ]
  },
  {
   "cell_type": "code",
   "execution_count": 2,
   "id": "49445606-d363-41b4-b479-e319a9a84c01",
   "metadata": {},
   "outputs": [],
   "source": [
    "library(data.table)"
   ]
  },
  {
   "cell_type": "code",
   "execution_count": 3,
   "id": "d3b91e03-bfd7-4317-ad1b-380002c00500",
   "metadata": {},
   "outputs": [],
   "source": [
    "options(jupyter.rich_display = F)"
   ]
  },
  {
   "cell_type": "code",
   "execution_count": 4,
   "id": "7e5beb0b-f92d-412f-9816-c0eb75a5aaa8",
   "metadata": {},
   "outputs": [],
   "source": [
    "options(repr.matrix.max.cols = 30, repr.matrix.max.rows = 200)"
   ]
  },
  {
   "cell_type": "code",
   "execution_count": 6,
   "id": "62db59db-d433-45f7-82c8-f3c1776fe873",
   "metadata": {},
   "outputs": [],
   "source": [
    "orders <- fread(\"/anvil/projects/tdm/data/restaurant/orders.csv\")"
   ]
  },
  {
   "cell_type": "code",
   "execution_count": 7,
   "id": "e1e4f887-0bd3-4134-b106-12617b568c06",
   "metadata": {},
   "outputs": [],
   "source": [
    "vendors <- fread(\"/anvil/projects/tdm/data/restaurant/vendors.csv\")"
   ]
  },
  {
   "cell_type": "code",
   "execution_count": 8,
   "id": "ce481828-cc3b-4574-b1f7-1771ffe6630a",
   "metadata": {},
   "outputs": [
    {
     "data": {
      "text/plain": [
       "[1] \"Arabic,Breakfast,Burgers,Desserts,Free Delivery,Grills,Lebanese,Salads,Sandwiches,Shawarma\"\n",
       "[2] \"Breakfast,Cakes,Crepes,Italian,Pasta,Pizzas,Salads,Sandwiches,Soups\"                       \n",
       "[3] \"Breakfast,Desserts,Free Delivery,Indian\"                                                   \n",
       "[4] \"Burgers,Desserts,Fries,Salads\"                                                             \n",
       "[5] \"Burgers\"                                                                                   \n",
       "[6] \"Desserts,Mexican\"                                                                          "
      ]
     },
     "metadata": {},
     "output_type": "display_data"
    }
   ],
   "source": [
    "head(vendors$vendor_tag_name)"
   ]
  },
  {
   "cell_type": "code",
   "execution_count": 9,
   "id": "3b7478c6-ee33-4bbf-9754-c2ee51b89ccc",
   "metadata": {},
   "outputs": [
    {
     "data": {
      "text/plain": [
       " [1]  4  7  8 19 46 51 55 57 65 69 72 81 92 93 94 95 96 97 98 99"
      ]
     },
     "metadata": {},
     "output_type": "display_data"
    }
   ],
   "source": [
    "grep(\"Fries\", vendors$vendor_tag_name)"
   ]
  },
  {
   "cell_type": "code",
   "execution_count": 10,
   "id": "ea106779-f27c-4161-9e9e-456824615c69",
   "metadata": {},
   "outputs": [
    {
     "data": {
      "text/plain": [
       "  [1] FALSE FALSE FALSE  TRUE FALSE FALSE  TRUE  TRUE FALSE FALSE FALSE FALSE\n",
       " [13] FALSE FALSE FALSE FALSE FALSE FALSE  TRUE FALSE FALSE FALSE FALSE FALSE\n",
       " [25] FALSE FALSE FALSE FALSE FALSE FALSE FALSE FALSE FALSE FALSE FALSE FALSE\n",
       " [37] FALSE FALSE FALSE FALSE FALSE FALSE FALSE FALSE FALSE  TRUE FALSE FALSE\n",
       " [49] FALSE FALSE  TRUE FALSE FALSE FALSE  TRUE FALSE  TRUE FALSE FALSE FALSE\n",
       " [61] FALSE FALSE FALSE FALSE  TRUE FALSE FALSE FALSE  TRUE FALSE FALSE  TRUE\n",
       " [73] FALSE FALSE FALSE FALSE FALSE FALSE FALSE FALSE  TRUE FALSE FALSE FALSE\n",
       " [85] FALSE FALSE FALSE FALSE FALSE FALSE FALSE  TRUE  TRUE  TRUE  TRUE  TRUE\n",
       " [97]  TRUE  TRUE  TRUE FALSE"
      ]
     },
     "metadata": {},
     "output_type": "display_data"
    }
   ],
   "source": [
    "grepl(\"Fries\", vendors$vendor_tag_name)"
   ]
  },
  {
   "cell_type": "code",
   "execution_count": 13,
   "id": "105a97a9-b615-41ce-8dbb-b9ea00138c1c",
   "metadata": {},
   "outputs": [],
   "source": [
    "a_1 <- subset(vendors, grepl(\"Fries\", vendor_tag_name))"
   ]
  },
  {
   "cell_type": "code",
   "execution_count": 14,
   "id": "d7145f51-54fb-4a23-90ed-58bd43e7c997",
   "metadata": {},
   "outputs": [],
   "source": [
    "b_1 <- vendors[grep(\"Fries\", vendors$vendor_tag_name),]"
   ]
  },
  {
   "cell_type": "code",
   "execution_count": 15,
   "id": "ac01a9ae-3e64-457f-8592-9dc1b86d7615",
   "metadata": {},
   "outputs": [
    {
     "data": {
      "text/plain": [
       "[1] 20 59"
      ]
     },
     "metadata": {},
     "output_type": "display_data"
    }
   ],
   "source": [
    "dim(a_1)"
   ]
  },
  {
   "cell_type": "code",
   "execution_count": 16,
   "id": "97523607-5bbc-4814-ac64-6c9d91fb2f41",
   "metadata": {},
   "outputs": [
    {
     "data": {
      "text/plain": [
       "[1] 20 59"
      ]
     },
     "metadata": {},
     "output_type": "display_data"
    }
   ],
   "source": [
    "dim(b_1)"
   ]
  },
  {
   "cell_type": "code",
   "execution_count": 17,
   "id": "6a23b673-8353-4c03-b80d-07fb3d2aa027",
   "metadata": {},
   "outputs": [
    {
     "data": {
      "text/plain": [
       "  id  authentication_id latitude    longitude  vendor_category_en\n",
       "1  23 118619            -0.58538462 0.75381136 Restaurants       \n",
       "2  43 118639            -0.11500962 0.54597341 Restaurants       \n",
       "3  44 118640            -0.93655577 0.08193295 Restaurants       \n",
       "4  84 118681            -1.00492308 0.07873636 Restaurants       \n",
       "5 195 118793            -0.70446731 0.05695477 Restaurants       \n",
       "6 203 118802             0.02620577 0.55258750 Restaurants       \n",
       "  vendor_category_id delivery_charge serving_distance is_open OpeningTime    \n",
       "1 2                  0.0              5               1       10:59AM-10:30PM\n",
       "2 2                  0.7             15               1       11:00AM-11:45PM\n",
       "3 2                  0.7             15               1       11:00AM-11:45PM\n",
       "4 2                  0.0             15               1       10:00AM-11:45PM\n",
       "5 2                  0.7             15               1       05:30PM-11:59PM\n",
       "6 2                  0.7             15               0       11:00AM-11:01PM\n",
       "  OpeningTime2    prepration_time commission is_akeed_delivering\n",
       "1 -               16              0          Yes                \n",
       "2 -               15              0          Yes                \n",
       "3 -               14              0          Yes                \n",
       "4 -               14              0          Yes                \n",
       "5 00:01AM-02:30AM 15              0          Yes                \n",
       "6 -               16              0          Yes                \n",
       "  discount_percentage ... saturday_from_time1 saturday_to_time1\n",
       "1 0                   ... 09:00:00            23:45:00         \n",
       "2 0                   ... 00:01:00            01:30:00         \n",
       "3 0                   ... 00:01:00            01:30:00         \n",
       "4 0                   ... 11:00:00            23:59:00         \n",
       "5 0                   ... 00:01:00            00:59:00         \n",
       "6 0                   ... 10:30:00            23:15:00         \n",
       "  saturday_from_time2 saturday_to_time2 primary_tags             \n",
       "1                                       {\"\"primary_tags\"\":\"\"46\"\"}\n",
       "2 17:45:00            23:59:00          {\"\"primary_tags\"\":\"\"8\"\"} \n",
       "3 17:45:00            23:59:00          {\"\"primary_tags\"\":\"\"8\"\"} \n",
       "4 00:01:00            00:59:00          {\"\"primary_tags\"\":\"\"90\"\"}\n",
       "5 18:00:00            23:59:00                                   \n",
       "6                                       {\"\"primary_tags\"\":\"\"52\"\"}\n",
       "  open_close_flags vendor_tag         \n",
       "1 1                5,8,30,24          \n",
       "2 1                1,5,30,16          \n",
       "3 1                1,5,30,16          \n",
       "4 1                5,30,48,23         \n",
       "5 1                5,30,22,47,52,16,56\n",
       "6 1                1,16,29,30         \n",
       "  vendor_tag_name                                         one_click_vendor\n",
       "1 Burgers,Desserts,Fries,Salads                           Y               \n",
       "2 American,Burgers,Fries,Sandwiches                       Y               \n",
       "3 American,Burgers,Fries,Sandwiches                       Y               \n",
       "4 Burgers,Fries,Kids meal,Shawarma                        Y               \n",
       "5 Burgers,Fries,Grills,Mishkak,Mojitos ,Sandwiches,Sweets Y               \n",
       "6 American,Sandwiches,Hot Dogs,Fries                      Y               \n",
       "  country_id city_id created_at          updated_at          device_type\n",
       "1 1          1       2018-05-06 19:20:48 2020-04-02 00:56:17 3          \n",
       "2 1          1       2018-06-20 12:28:00 2020-04-07 16:56:57 3          \n",
       "3 1          1       2018-06-20 13:11:17 2020-04-07 20:09:27 3          \n",
       "4 1          1       2018-09-16 19:37:12 2020-04-07 21:08:27 3          \n",
       "5 1          1       2019-03-10 13:05:09 2020-04-03 14:43:26 3          \n",
       "6 1          1       2019-03-16 19:11:51 2020-04-05 17:48:57 3          \n",
       "  display_orders\n",
       "1 1             \n",
       "2 1             \n",
       "3 1             \n",
       "4 1             \n",
       "5 1             \n",
       "6 1             "
      ]
     },
     "metadata": {},
     "output_type": "display_data"
    }
   ],
   "source": [
    "head(a_1)"
   ]
  },
  {
   "cell_type": "code",
   "execution_count": 18,
   "id": "57954b8b-5209-4313-9754-47228f74182b",
   "metadata": {},
   "outputs": [
    {
     "data": {
      "text/plain": [
       "  id  authentication_id latitude    longitude  vendor_category_en\n",
       "1  23 118619            -0.58538462 0.75381136 Restaurants       \n",
       "2  43 118639            -0.11500962 0.54597341 Restaurants       \n",
       "3  44 118640            -0.93655577 0.08193295 Restaurants       \n",
       "4  84 118681            -1.00492308 0.07873636 Restaurants       \n",
       "5 195 118793            -0.70446731 0.05695477 Restaurants       \n",
       "6 203 118802             0.02620577 0.55258750 Restaurants       \n",
       "  vendor_category_id delivery_charge serving_distance is_open OpeningTime    \n",
       "1 2                  0.0              5               1       10:59AM-10:30PM\n",
       "2 2                  0.7             15               1       11:00AM-11:45PM\n",
       "3 2                  0.7             15               1       11:00AM-11:45PM\n",
       "4 2                  0.0             15               1       10:00AM-11:45PM\n",
       "5 2                  0.7             15               1       05:30PM-11:59PM\n",
       "6 2                  0.7             15               0       11:00AM-11:01PM\n",
       "  OpeningTime2    prepration_time commission is_akeed_delivering\n",
       "1 -               16              0          Yes                \n",
       "2 -               15              0          Yes                \n",
       "3 -               14              0          Yes                \n",
       "4 -               14              0          Yes                \n",
       "5 00:01AM-02:30AM 15              0          Yes                \n",
       "6 -               16              0          Yes                \n",
       "  discount_percentage ... saturday_from_time1 saturday_to_time1\n",
       "1 0                   ... 09:00:00            23:45:00         \n",
       "2 0                   ... 00:01:00            01:30:00         \n",
       "3 0                   ... 00:01:00            01:30:00         \n",
       "4 0                   ... 11:00:00            23:59:00         \n",
       "5 0                   ... 00:01:00            00:59:00         \n",
       "6 0                   ... 10:30:00            23:15:00         \n",
       "  saturday_from_time2 saturday_to_time2 primary_tags             \n",
       "1                                       {\"\"primary_tags\"\":\"\"46\"\"}\n",
       "2 17:45:00            23:59:00          {\"\"primary_tags\"\":\"\"8\"\"} \n",
       "3 17:45:00            23:59:00          {\"\"primary_tags\"\":\"\"8\"\"} \n",
       "4 00:01:00            00:59:00          {\"\"primary_tags\"\":\"\"90\"\"}\n",
       "5 18:00:00            23:59:00                                   \n",
       "6                                       {\"\"primary_tags\"\":\"\"52\"\"}\n",
       "  open_close_flags vendor_tag         \n",
       "1 1                5,8,30,24          \n",
       "2 1                1,5,30,16          \n",
       "3 1                1,5,30,16          \n",
       "4 1                5,30,48,23         \n",
       "5 1                5,30,22,47,52,16,56\n",
       "6 1                1,16,29,30         \n",
       "  vendor_tag_name                                         one_click_vendor\n",
       "1 Burgers,Desserts,Fries,Salads                           Y               \n",
       "2 American,Burgers,Fries,Sandwiches                       Y               \n",
       "3 American,Burgers,Fries,Sandwiches                       Y               \n",
       "4 Burgers,Fries,Kids meal,Shawarma                        Y               \n",
       "5 Burgers,Fries,Grills,Mishkak,Mojitos ,Sandwiches,Sweets Y               \n",
       "6 American,Sandwiches,Hot Dogs,Fries                      Y               \n",
       "  country_id city_id created_at          updated_at          device_type\n",
       "1 1          1       2018-05-06 19:20:48 2020-04-02 00:56:17 3          \n",
       "2 1          1       2018-06-20 12:28:00 2020-04-07 16:56:57 3          \n",
       "3 1          1       2018-06-20 13:11:17 2020-04-07 20:09:27 3          \n",
       "4 1          1       2018-09-16 19:37:12 2020-04-07 21:08:27 3          \n",
       "5 1          1       2019-03-10 13:05:09 2020-04-03 14:43:26 3          \n",
       "6 1          1       2019-03-16 19:11:51 2020-04-05 17:48:57 3          \n",
       "  display_orders\n",
       "1 1             \n",
       "2 1             \n",
       "3 1             \n",
       "4 1             \n",
       "5 1             \n",
       "6 1             "
      ]
     },
     "metadata": {},
     "output_type": "display_data"
    }
   ],
   "source": [
    "head(b_1)"
   ]
  },
  {
   "cell_type": "markdown",
   "id": "fc601975-35ed-4680-a4e1-0273ee3cc047",
   "metadata": {},
   "source": [
    "## Question 2"
   ]
  },
  {
   "cell_type": "code",
   "execution_count": 19,
   "id": "a16336a1-1ef0-41e8-bc7c-49387db27497",
   "metadata": {},
   "outputs": [
    {
     "data": {
      "text/plain": [
       "\n",
       "  0 0.7 \n",
       " 41  59 "
      ]
     },
     "metadata": {},
     "output_type": "display_data"
    }
   ],
   "source": [
    "table(vendors$delivery_charge)"
   ]
  },
  {
   "cell_type": "code",
   "execution_count": 21,
   "id": "f7295918-2ba0-47ad-b0fc-4f5be84110e0",
   "metadata": {},
   "outputs": [
    {
     "data": {
      "text/plain": [
       "\n",
       "   0  0.7 \n",
       "0.41 0.59 "
      ]
     },
     "metadata": {},
     "output_type": "display_data"
    }
   ],
   "source": [
    "prop.table(table(vendors$delivery_charge))"
   ]
  },
  {
   "cell_type": "markdown",
   "id": "8e586edd-ff26-4ce2-8f6b-2424b26f2929",
   "metadata": {},
   "source": [
    "## Question 3"
   ]
  },
  {
   "cell_type": "code",
   "execution_count": 22,
   "id": "bbe0f40d-9655-4653-9ca8-886bdb61cb91",
   "metadata": {},
   "outputs": [],
   "source": [
    "a_3 <- subset (vendors, vendor_category_id == 2)"
   ]
  },
  {
   "cell_type": "code",
   "execution_count": 23,
   "id": "4468ec21-6c9c-4b1a-b207-544ce13a3ce3",
   "metadata": {},
   "outputs": [
    {
     "data": {
      "text/plain": [
       "  id authentication_id latitude   longitude vendor_category_en\n",
       "1  4 118597            -0.5885962 0.7544341 Restaurants       \n",
       "2 13 118608            -0.4716538 0.7444705 Restaurants       \n",
       "3 20 118616            -0.4075269 0.6436807 Restaurants       \n",
       "4 23 118619            -0.5853846 0.7538114 Restaurants       \n",
       "5 28 118624             0.4806019 0.5528505 Restaurants       \n",
       "6 33 118629            -0.4946538 0.7433182 Restaurants       \n",
       "  vendor_category_id delivery_charge serving_distance is_open OpeningTime    \n",
       "1 2                  0.0              6               1       11:00AM-11:30PM\n",
       "2 2                  0.7              5               1       08:30AM-10:30PM\n",
       "3 2                  0.0              8               1       08:00AM-10:45PM\n",
       "4 2                  0.0              5               1       10:59AM-10:30PM\n",
       "5 2                  0.7             15               1       11:00AM-11:45PM\n",
       "6 2                  0.7              6               1       11:00AM-10:30PM\n",
       "  OpeningTime2 prepration_time commission is_akeed_delivering\n",
       "1 -            15              0          Yes                \n",
       "2 -            14              0          Yes                \n",
       "3 -            19              0          Yes                \n",
       "4 -            16              0          Yes                \n",
       "5 -            10              0          Yes                \n",
       "6 -            17              0          Yes                \n",
       "  discount_percentage ... saturday_from_time1 saturday_to_time1\n",
       "1 0                   ... 00:00:00            00:30:00         \n",
       "2 0                   ... 00:00:00            01:30:00         \n",
       "3 0                   ... 08:00:00            22:45:00         \n",
       "4 0                   ... 09:00:00            23:45:00         \n",
       "5 0                   ... 00:01:00            01:30:00         \n",
       "6 0                   ... 08:30:00            23:59:00         \n",
       "  saturday_from_time2 saturday_to_time2 primary_tags             \n",
       "1 10:00:00            23:59:00          {\"\"primary_tags\"\":\"\"4\"\"} \n",
       "2 08:00:00            23:59:00          {\"\"primary_tags\"\":\"\"7\"\"} \n",
       "3                                       {\"\"primary_tags\"\":\"\"71\"\"}\n",
       "4                                       {\"\"primary_tags\"\":\"\"46\"\"}\n",
       "5 17:45:00            23:59:00          {\"\"primary_tags\"\":\"\"32\"\"}\n",
       "6 00:00:00            01:00:00          {\"\"primary_tags\"\":\"\"51\"\"}\n",
       "  open_close_flags vendor_tag               \n",
       "1 1                2,4,5,8,91,22,12,24,16,23\n",
       "2 1                4,41,51,34,27,15,24,16,28\n",
       "3 1                4,8,91,10                \n",
       "4 1                5,8,30,24                \n",
       "5 1                5                        \n",
       "6 1                8,42                     \n",
       "  vendor_tag_name                                                                           \n",
       "1 Arabic,Breakfast,Burgers,Desserts,Free Delivery,Grills,Lebanese,Salads,Sandwiches,Shawarma\n",
       "2 Breakfast,Cakes,Crepes,Italian,Pasta,Pizzas,Salads,Sandwiches,Soups                       \n",
       "3 Breakfast,Desserts,Free Delivery,Indian                                                   \n",
       "4 Burgers,Desserts,Fries,Salads                                                             \n",
       "5 Burgers                                                                                   \n",
       "6 Desserts,Mexican                                                                          \n",
       "  one_click_vendor country_id city_id created_at          updated_at         \n",
       "1 Y                1          1       2018-01-30 14:42:04 2020-04-07 15:12:43\n",
       "2 Y                1          1       2018-05-03 12:32:06 2020-04-05 20:46:03\n",
       "3 Y                1          1       2018-05-04 22:28:22 2020-04-07 16:35:55\n",
       "4 Y                1          1       2018-05-06 19:20:48 2020-04-02 00:56:17\n",
       "5 Y                1          1       2018-05-17 22:12:38 2020-04-05 15:57:41\n",
       "6 Y                1          1       2018-05-24 17:23:13 2020-04-07 15:04:57\n",
       "  device_type display_orders\n",
       "1 3           1             \n",
       "2 3           1             \n",
       "3 3           1             \n",
       "4 3           1             \n",
       "5 3           1             \n",
       "6 3           1             "
      ]
     },
     "metadata": {},
     "output_type": "display_data"
    }
   ],
   "source": [
    "head(a_3)"
   ]
  },
  {
   "cell_type": "code",
   "execution_count": 26,
   "id": "a3ee9b16-8e1e-4aac-989d-241d5954e079",
   "metadata": {},
   "outputs": [
    {
     "data": {
      "text/plain": [
       "\n",
       "        0       0.7 \n",
       "0.3932584 0.6067416 "
      ]
     },
     "metadata": {},
     "output_type": "display_data"
    }
   ],
   "source": [
    "prop.table(table(a_3$delivery_charge))"
   ]
  },
  {
   "cell_type": "code",
   "execution_count": 27,
   "id": "0a690bc6-93cf-4667-a465-229a525962e8",
   "metadata": {},
   "outputs": [],
   "source": [
    "b_3 <- subset (vendors, vendor_category_id == 3)"
   ]
  },
  {
   "cell_type": "code",
   "execution_count": 28,
   "id": "abbf5d0d-6e32-46a2-ada8-a35d9931e216",
   "metadata": {},
   "outputs": [
    {
     "data": {
      "text/plain": [
       "\n",
       "        0       0.7 \n",
       "0.5454545 0.4545455 "
      ]
     },
     "metadata": {},
     "output_type": "display_data"
    }
   ],
   "source": [
    "prop.table(table(b_3$delivery_charge))"
   ]
  },
  {
   "cell_type": "markdown",
   "id": "da22f29c-d245-4d2b-9fc1-ca14cb6087d9",
   "metadata": {},
   "source": [
    "## Question 4"
   ]
  },
  {
   "cell_type": "code",
   "execution_count": 29,
   "id": "8cffc767-d1c8-4d64-b7dc-f0d2ee8a80d1",
   "metadata": {},
   "outputs": [
    {
     "data": {
      "text/plain": [
       "$`2`\n",
       "\n",
       "  0 0.7 \n",
       " 35  54 \n",
       "\n",
       "$`3`\n",
       "\n",
       "  0 0.7 \n",
       "  6   5 \n"
      ]
     },
     "metadata": {},
     "output_type": "display_data"
    }
   ],
   "source": [
    "tapply(vendors$delivery_charge, vendors$vendor_category_id, table)"
   ]
  },
  {
   "cell_type": "code",
   "execution_count": 31,
   "id": "c7ece131-7ff7-4e32-aff2-6ae817564541",
   "metadata": {},
   "outputs": [
    {
     "data": {
      "text/plain": [
       "$`2`\n",
       "x\n",
       "        0       0.7 \n",
       "0.3932584 0.6067416 \n",
       "\n",
       "$`3`\n",
       "x\n",
       "        0       0.7 \n",
       "0.5454545 0.4545455 \n"
      ]
     },
     "metadata": {},
     "output_type": "display_data"
    }
   ],
   "source": [
    "tapply(vendors$delivery_charge, vendors$vendor_category_id, function(x) {prop.table(table(x))})"
   ]
  },
  {
   "cell_type": "markdown",
   "id": "88c9cdac-3e92-498f-83fa-e089bfc44ac8",
   "metadata": {},
   "source": [
    "## Question 5"
   ]
  },
  {
   "cell_type": "code",
   "execution_count": 33,
   "id": "d370d7c9-06db-42b9-b75f-240481a5c491",
   "metadata": {},
   "outputs": [
    {
     "data": {
      "text/plain": [
       "$`2`\n",
       "\n",
       "        0       0.7 \n",
       "0.3932584 0.6067416 \n",
       "\n",
       "$`3`\n",
       "\n",
       "        0       0.7 \n",
       "0.5454545 0.4545455 \n"
      ]
     },
     "metadata": {},
     "output_type": "display_data"
    }
   ],
   "source": [
    "sapply(tapply(vendors$delivery_charge, vendors$vendor_category_id, table), prop.table, simplify=FALSE)"
   ]
  },
  {
   "cell_type": "markdown",
   "id": "f76442d6-d02e-4f26-b9d6-c3183e1d6929",
   "metadata": {},
   "source": [
    "## Pledge\n",
    "\n",
    "By submitting this work I hereby pledge that this is my own, personal work. I've acknowledged in the designated place at the top of this file all sources that I used to complete said work, including but not limited to: online resources, books, and electronic communications. I've noted all collaboration with fellow students and/or TA's. I did not copy or plagiarize another's work.\n",
    "\n",
    "> As a Boilermaker pursuing academic excellence, I pledge to be honest and true in all that I do. Accountable together – We are Purdue."
   ]
  }
 ],
 "metadata": {
  "kernelspec": {
   "display_name": "seminar-r",
   "language": "R",
   "name": "seminar-r"
  },
  "language_info": {
   "codemirror_mode": "r",
   "file_extension": ".r",
   "mimetype": "text/x-r-source",
   "name": "R",
   "pygments_lexer": "r",
   "version": "4.3.1"
  }
 },
 "nbformat": 4,
 "nbformat_minor": 5
}
